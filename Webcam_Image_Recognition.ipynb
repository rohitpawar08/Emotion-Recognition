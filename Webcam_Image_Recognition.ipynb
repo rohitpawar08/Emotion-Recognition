{
 "cells": [
  {
   "cell_type": "code",
   "execution_count": 1,
   "id": "389638be",
   "metadata": {},
   "outputs": [],
   "source": [
    "## Webcam image recognition\n",
    "import cv2\n",
    "import numpy as np\n",
    "from keras.models import load_model\n",
    "from keras.preprocessing.image import img_to_array"
   ]
  },
  {
   "cell_type": "code",
   "execution_count": 2,
   "id": "f49fc102",
   "metadata": {},
   "outputs": [],
   "source": [
    "key = cv2. waitKey(1)\n",
    "webcam = cv2.VideoCapture(0)\n",
    "while True:\n",
    "    try:\n",
    "        check, frame = webcam.read()\n",
    "        cv2.imshow(\"Capturing\", frame)\n",
    "        key = cv2.waitKey(1)\n",
    "        if key == ord('s'): \n",
    "            cv2.imwrite(filename='Captured_image.jpg', img=frame)\n",
    "            webcam.release()\n",
    "            img_new = cv2.imread('Captured_image.jpg', cv2.IMREAD_GRAYSCALE)\n",
    "            img_new = cv2.imshow(\"Captured Image\", img_new)\n",
    "            cv2.waitKey(1)\n",
    "            cv2.destroyAllWindows()\n",
    "        \n",
    "            break\n",
    "        elif key == ord('q'):\n",
    "            print(\"Turning off camera.\")\n",
    "            webcam.release()\n",
    "            print(\"Camera off.\")\n",
    "            print(\"Program ended.\")\n",
    "            cv2.destroyAllWindows()\n",
    "            break\n",
    "        \n",
    "    except(KeyboardInterrupt):\n",
    "        print(\"Turning off camera.\")\n",
    "        webcam.release()\n",
    "        print(\"Camera off.\")\n",
    "        print(\"Program ended.\")\n",
    "        cv2.destroyAllWindows()\n",
    "        break"
   ]
  },
  {
   "cell_type": "code",
   "execution_count": 3,
   "id": "1ed32699",
   "metadata": {},
   "outputs": [
    {
     "name": "stdout",
     "output_type": "stream",
     "text": [
      "Number of faces detected : 1\n"
     ]
    }
   ],
   "source": [
    "## Webcam image recognition\n",
    "detection_model_path = 'haarcascade_frontalface_default.xml'\n",
    "image_path = 'Captured_image.jpg'\n",
    "\n",
    "face_detection = cv2.CascadeClassifier(detection_model_path)\n",
    "\n",
    "emotion_classifier = load_model(\"model_100epochs.h5\")\n",
    "\n",
    "emotions = ['angry', 'disgust', 'scared', 'happy', 'sad', 'surprise', 'neutral']\n",
    "\n",
    "\n",
    "color_frame = cv2.imread(image_path)\n",
    "gray_frame = cv2.imread(image_path,0)\n",
    "\n",
    "cv2.imshow('image',color_frame)\n",
    "    \n",
    "detected_faces = face_detection.detectMultiScale(color_frame, scaleFactor=1.1, minNeighbors=5,minSize=(30,30), flags=cv2.CASCADE_SCALE_IMAGE)\n",
    "print('Number of faces detected :',len(detected_faces))\n",
    "\n",
    "if len(detected_faces)>0:\n",
    "    detected_faces = sorted(detected_faces, reverse=True, key=lambda x: (x[2]-x[0])*(x[3]-x[1]))[0] ##If more than one faces\n",
    "    (fx, fy, fw, fh) = detected_faces\n",
    "    \n",
    "    im = gray_frame[fy:fy+fh, fx:fx+fw]\n",
    "    im = cv2.resize(im, (48,48)) ## The model is trained on 48*48 pixel image\n",
    "    im = im.astype(\"float\")/255.0\n",
    "    im = img_to_array(im)\n",
    "    im = np.expand_dims(im, axis=0)\n",
    "    \n",
    "    preds = emotion_classifier.predict(im)[0]\n",
    "    emotion_probability = np.max(preds)\n",
    "    label = emotions[preds.argmax()]\n",
    "    \n",
    "    cv2.putText(color_frame, label, (fx, fy-10), cv2.FONT_HERSHEY_SIMPLEX, 0.45,(0,0,255),2)\n",
    "    cv2.rectangle(color_frame, (fx,fy), (fx+fw, fy+fh),(0,0,255),2)\n",
    "    \n",
    "\n",
    "cv2.imwrite('output_test_for_camera_image.jpg',color_frame)\n",
    "cv2.imshow('emotion detected',color_frame)\n",
    "cv2.waitKey(0)\n",
    "cv2.destroyAllWindows()"
   ]
  }
 ],
 "metadata": {
  "kernelspec": {
   "display_name": "Python 3 (ipykernel)",
   "language": "python",
   "name": "python3"
  },
  "language_info": {
   "codemirror_mode": {
    "name": "ipython",
    "version": 3
   },
   "file_extension": ".py",
   "mimetype": "text/x-python",
   "name": "python",
   "nbconvert_exporter": "python",
   "pygments_lexer": "ipython3",
   "version": "3.9.7"
  }
 },
 "nbformat": 4,
 "nbformat_minor": 5
}
