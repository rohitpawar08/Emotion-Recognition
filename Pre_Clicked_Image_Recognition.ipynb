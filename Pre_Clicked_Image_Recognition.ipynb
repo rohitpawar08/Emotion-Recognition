{
 "cells": [
  {
   "cell_type": "code",
   "execution_count": 1,
   "id": "da0579f8",
   "metadata": {},
   "outputs": [],
   "source": [
    "## Pre Clicked Image Recognition\n",
    "from keras.preprocessing.image import img_to_array\n",
    "from keras.models import load_model\n",
    "import cv2\n",
    "import numpy as np"
   ]
  },
  {
   "cell_type": "code",
   "execution_count": 2,
   "id": "9079c0da",
   "metadata": {},
   "outputs": [
    {
     "name": "stdout",
     "output_type": "stream",
     "text": [
      "Number of faces detected : 1\n"
     ]
    }
   ],
   "source": [
    "## Pre Clicked Image Recognition\n",
    "detection_model_path = 'haarcascade_frontalface_default.xml'\n",
    "image_path = 'test_image.jpg'\n",
    "\n",
    "face_detection = cv2.CascadeClassifier(detection_model_path)\n",
    "\n",
    "emotion_classifier = load_model(\"model_100epochs.h5\")\n",
    "\n",
    "emotions = ['angry', 'disgust', 'scared', 'happy', 'sad', 'surprise', 'neutral']\n",
    "\n",
    "\n",
    "color_frame = cv2.imread(image_path)\n",
    "gray_frame = cv2.imread(image_path,0)\n",
    "\n",
    "cv2.imshow('image',color_frame)\n",
    "\n",
    "detected_faces = face_detection.detectMultiScale(color_frame, scaleFactor=1.1, minNeighbors=5,\n",
    "                                                minSize=(30,30), flags=cv2.CASCADE_SCALE_IMAGE)\n",
    "print('Number of faces detected :',len(detected_faces))\n",
    "\n",
    "if len(detected_faces)>0:\n",
    "    detected_faces = sorted(detected_faces, reverse=True, key=lambda x: (x[2]-x[0])*(x[3]-x[1]))[0] ##If more than onr faces\n",
    "    (fx, fy, fw, fh) = detected_faces\n",
    "    \n",
    "    im = gray_frame[fy:fy+fh, fx:fx+fw]\n",
    "    im = cv2.resize(im, (48,48)) ## The model is trained on 48*48 pixel image\n",
    "    im = im.astype(\"float\")/255.0\n",
    "    im = img_to_array(im)\n",
    "    im = np.expand_dims(im, axis=0)\n",
    "    \n",
    "    preds = emotion_classifier.predict(im)[0]\n",
    "    emotion_probability = np.max(preds)\n",
    "    label = emotions[preds.argmax()]\n",
    "    \n",
    "    cv2.putText(color_frame, label, (fx, fy-10), cv2.FONT_HERSHEY_SIMPLEX, 0.45,(0,0,255),2)\n",
    "    cv2.rectangle(color_frame, (fx,fy), (fx+fw, fy+fh),(0,0,255),2)\n",
    "    \n",
    "\n",
    "cv2.imwrite('output_image.jpg',color_frame)\n",
    "cv2.imshow('emotion detected image',color_frame)\n",
    "\n",
    "cv2.waitKey(0)\n",
    "cv2.destroyAllWindows() "
   ]
  },
  {
   "cell_type": "code",
   "execution_count": null,
   "id": "9c13f287",
   "metadata": {},
   "outputs": [],
   "source": []
  }
 ],
 "metadata": {
  "kernelspec": {
   "display_name": "Python 3 (ipykernel)",
   "language": "python",
   "name": "python3"
  },
  "language_info": {
   "codemirror_mode": {
    "name": "ipython",
    "version": 3
   },
   "file_extension": ".py",
   "mimetype": "text/x-python",
   "name": "python",
   "nbconvert_exporter": "python",
   "pygments_lexer": "ipython3",
   "version": "3.9.7"
  }
 },
 "nbformat": 4,
 "nbformat_minor": 5
}
